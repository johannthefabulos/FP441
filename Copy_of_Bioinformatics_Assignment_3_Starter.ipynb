{
  "nbformat": 4,
  "nbformat_minor": 0,
  "metadata": {
    "colab": {
      "provenance": [],
      "include_colab_link": true
    },
    "kernelspec": {
      "name": "python3",
      "display_name": "Python 3"
    },
    "language_info": {
      "name": "python"
    }
  },
  "cells": [
    {
      "cell_type": "markdown",
      "metadata": {
        "id": "view-in-github",
        "colab_type": "text"
      },
      "source": [
        "<a href=\"https://colab.research.google.com/github/johannthefabulos/FP441/blob/main/Copy_of_Bioinformatics_Assignment_3_Starter.ipynb\" target=\"_parent\"><img src=\"https://colab.research.google.com/assets/colab-badge.svg\" alt=\"Open In Colab\"/></a>"
      ]
    },
    {
      "cell_type": "code",
      "execution_count": 72,
      "metadata": {
        "colab": {
          "base_uri": "https://localhost:8080/"
        },
        "id": "uI8EGJEbF0Ae",
        "outputId": "2312bfa4-b640-44f4-c3e7-00e45c9eecbb"
      },
      "outputs": [
        {
          "output_type": "stream",
          "name": "stdout",
          "text": [
            "Looking in indexes: https://pypi.org/simple, https://us-python.pkg.dev/colab-wheels/public/simple/\n",
            "Requirement already satisfied: BioPython in /usr/local/lib/python3.7/dist-packages (1.80)\n",
            "Requirement already satisfied: numpy in /usr/local/lib/python3.7/dist-packages (from BioPython) (1.21.6)\n"
          ]
        }
      ],
      "source": [
        "!pip install BioPython"
      ]
    },
    {
      "cell_type": "code",
      "source": [],
      "metadata": {
        "id": "cW0rEGarogFE"
      },
      "execution_count": null,
      "outputs": []
    },
    {
      "cell_type": "code",
      "source": [],
      "metadata": {
        "id": "edc5Gb-uogZ9"
      },
      "execution_count": null,
      "outputs": []
    },
    {
      "cell_type": "code",
      "source": [
        "from Bio.PDB import *\n",
        "from Bio import pairwise2\n",
        "from Bio.Align import *\n",
        "from Bio import Align\n",
        "\n"
      ],
      "metadata": {
        "id": "Tlv5lsM5GGIx"
      },
      "execution_count": 73,
      "outputs": []
    },
    {
      "cell_type": "code",
      "source": [
        "pdbl = PDBList()\n",
        "\n",
        "# download the pdb files\n",
        "pdbl.retrieve_pdb_file(\"2K49\",file_format='pdb')\n",
        "pdbl.retrieve_pdb_file(\"2K8E\",file_format='pdb')\n",
        "parser = PDBParser()\n",
        "\n"
      ],
      "metadata": {
        "colab": {
          "base_uri": "https://localhost:8080/"
        },
        "id": "HWQjWpnpHAX-",
        "outputId": "364400a2-9a2d-4aac-f088-e16910bdf3de"
      },
      "execution_count": 91,
      "outputs": [
        {
          "output_type": "stream",
          "name": "stdout",
          "text": [
            "Structure exists: '/content/k4/pdb2k49.ent' \n",
            "Structure exists: '/content/k8/pdb2k8e.ent' \n"
          ]
        }
      ]
    },
    {
      "cell_type": "code",
      "source": [
        "# note their location and file name on colab\n",
        "# you may also download them as PDB files and indicate the path on your machine when running locally\n",
        "str1 = parser.get_structure(\"protA\",\"/content/k4/pdb2k49.ent\")\n",
        "str2 = parser.get_structure(\"protB\",\"/content/k8/pdb2k8e.ent\")\n",
        "\n"
      ],
      "metadata": {
        "id": "BDSN8H2cHrgD"
      },
      "execution_count": 93,
      "outputs": []
    },
    {
      "cell_type": "code",
      "source": [
        "def aa_residues(chain):\n",
        "        aa_only = []\n",
        "        for i in chain:\n",
        "            if i.get_resname() in standard_aa_names:\n",
        "                aa_only.append(i)\n",
        "        return aa_only\n",
        "\n",
        "# get the sequence of amino acids as 1 letter aa codes\n",
        "chain1 = CaPPBuilder()\n",
        "chain2 = CaPPBuilder()\n",
        "\n",
        "a = \"\"\n",
        "for pp in chain1.build_peptides(str1):\n",
        "\ta = a+pp.get_sequence()\n",
        " \n",
        "print(a)\n",
        "\n",
        "b = \"\"\n",
        "for pp in chain2.build_peptides(str2):\n",
        "\tb = b+pp.get_sequence()\n",
        " \n",
        "print(b)\n",
        "\n",
        "# use blosum62 for the alignment\n",
        "matrix = substitution_matrices.load(\"BLOSUM62\")\n",
        "\n",
        "# YOUR CODE HERE for local alignment of a and b using \"matrix\" and gap opening and gap extension of -5\n",
        "aligner = Align.PairwiseAligner()\n",
        "\n",
        "aligner.substitution_matrix = matrix\n",
        "aligner.open_gap_score = -5\n",
        "aligner.extend_gap_score = -5\n",
        "aln = aligner.align(a, b)[0]\n",
        "print(\"aln\",aln)\n",
        "print(\"end aln\")\n",
        "\n",
        "# the code below gets the CA atom lists from both input structures\n",
        "\n",
        "# get the first model from each structure\n",
        "m1 = str1[0]\n",
        "m2 = str2[0]\n",
        "\n",
        "# get the first chain from each model\n",
        "for c in m1:\n",
        "\tc1 = c\n",
        "\tbreak\n",
        "\n",
        "for c in m2:\n",
        "\tc2 = c\n",
        "\tbreak\n",
        "\n",
        "amino_acids1 = aa_residues(c1)\n",
        "amino_acids2 = aa_residues(c2)\n",
        "\n",
        "# get all the CA atoms in the chain\n",
        "atoms1 = []\n",
        "atoms2 = []\n",
        "\n",
        "for r in amino_acids1:\n",
        "\tatoms1.append(r[\"CA\"])\n",
        " \n",
        "print(len(atoms1))\n",
        "\n",
        "for r in amino_acids2:\n",
        "\tatoms2.append(r[\"CA\"])\n",
        "\n",
        "print(len(atoms2))\n",
        "\n",
        "# now construct the list of matched atoms using the local alignment\n",
        "# YOUR CODE HERE\n",
        "first, second = aln\n",
        "score = aln.score\n",
        "print(\"first\",first)\n",
        "print(\"first\", second)\n",
        "print(\"type\",type(first))\n",
        "assert (len(first) == len(second))\n",
        "\n",
        "\n",
        "matoms1 = []\n",
        "matoms2 = []\n",
        "i = 0\n",
        "j = 0\n",
        "k = 0\n",
        "while i < len(first):\n",
        "\tif first[i] != \"-\" and second[i] != \"-\":\n",
        "\t\tmatoms1.append(atoms1[j])\n",
        "\t\tmatoms2.append(atoms2[k])\n",
        "\tif first[i] != \"-\":\n",
        "\t\tj += 1\n",
        "\tif second[i] != \"-\":\n",
        "\t\tk += 1\n",
        "\ti += 1\n",
        "\n",
        "\n",
        "# the code below does not use the local alignment result and\n",
        "# just matches the first 4 atoms of each structure\n",
        "# to demonstrate the use of superimpose\n",
        "#matoms1.append(atoms1[0])\n",
        "#matoms1.append(atoms1[1])\n",
        "#matoms1.append(atoms1[2])\n",
        "#matoms1.append(atoms1[3])\n",
        "\n",
        "#matoms2.append(atoms2[5])\n",
        "#matoms2.append(atoms2[90])\n",
        "#matoms2.append(atoms2[95])\n",
        "#matoms2.append(atoms2[100])\n",
        "\n",
        "# now superimpose the matched atoms\n",
        "# note that matoms1 and matoms2 are same length coordinate lists\n",
        "sup = Superimposer()\n",
        "sup.set_atoms(matoms1,matoms2)\n",
        "print(\"RMSD = \" + str(sup.rms))"
      ],
      "metadata": {
        "colab": {
          "base_uri": "https://localhost:8080/"
        },
        "id": "a1lC7PoCIEEG",
        "outputId": "8365e078-bcd1-4ddd-ef91-71dcbde12ef7"
      },
      "execution_count": 94,
      "outputs": [
        {
          "output_type": "stream",
          "name": "stdout",
          "text": [
            "MSGWYELSKSSNDQFKFVLKAGNGEVILTSELYTGKSGAMNGIESVQTNSPIEARYAKEVAKNDKPYFNLKAANHQIIGTSQMYSSTAARDNGIKSVMENGKTTTIKDLTLEHHHHHH\n",
            "GVIMAGWFELSKSSDNQFRFVLKAGNGETILTSELYTSKTSAEKGIASVRSNSPQEERYEKKTASNGKFYFNLKAANHQIIGSSQMYATAQSRETGIASVKANGTSQTVKDNTGSN\n",
            "aln target            0 ---MSGWYELSKSSNDQFKFVLKAGNGEVILTSELYTGKSGAMNGIESVQTNSPIEARYA\n",
            "                  0 ---|.||.||||||..||.|||||||||.||||||||.|..|..||.||..|||.|.||.\n",
            "query             0 GVIMAGWFELSKSSDNQFRFVLKAGNGETILTSELYTSKTSAEKGIASVRSNSPQEERYE\n",
            "\n",
            "target           57 KEVAKNDKPYFNLKAANHQIIGTSQMYSSTAARDNGIKSVMENGKTTTIKDLTLEHHHHH\n",
            "                 60 |..|.|.|.|||||||||||||.||||.....|..||.||..||...|.||.|-...---\n",
            "query            60 KKTASNGKFYFNLKAANHQIIGSSQMYATAQSRETGIASVKANGTSQTVKDNT-GSN---\n",
            "\n",
            "target          117 H 118\n",
            "                120 - 121\n",
            "query           116 - 116\n",
            "\n",
            "end aln\n",
            "118\n",
            "116\n",
            "first ---MSGWYELSKSSNDQFKFVLKAGNGEVILTSELYTGKSGAMNGIESVQTNSPIEARYAKEVAKNDKPYFNLKAANHQIIGTSQMYSSTAARDNGIKSVMENGKTTTIKDLTLEHHHHHH\n",
            "first GVIMAGWFELSKSSDNQFRFVLKAGNGETILTSELYTSKTSAEKGIASVRSNSPQEERYEKKTASNGKFYFNLKAANHQIIGSSQMYATAQSRETGIASVKANGTSQTVKDNT-GSN----\n",
            "type <class 'str'>\n",
            "RMSD = 1.589975909522234\n"
          ]
        }
      ]
    }
  ]
}